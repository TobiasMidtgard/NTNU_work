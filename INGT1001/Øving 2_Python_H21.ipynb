{
 "cells": [
  {
   "cell_type": "markdown",
   "metadata": {
    "tags": []
   },
   "source": [
    "# Øving 2  -   INGT1001 Elektro: Python-modulen #\n",
    "> ### Frist: søndag 26/9, kl. 23.59\n",
    "> ### Levering: på vår underside (https://ntnu.blackboard.com/webapps/blackboard/execute/modulepage/view?course_id=_32669_1&cmp_tab_id=_252410_1&editMode=true&mode=cpview#) på Blackboard under folderen Arbeidskrav\n",
    "> __Godkjenningskrav:__  _P3.17-19 og P3.48-49 må være gjort + minst 50% av de øvrige deloppgavene_"
   ]
  },
  {
   "cell_type": "markdown",
   "metadata": {},
   "source": [
    "### Fra Chapter 3, Python for Everyone ###\n",
    "> __Programming Execises: P3.1-6, P3.11, P3.17-19, P3.21, P3.48-49__<br>\n",
    "\n",
    "_Nedenfor ser du besvarelsen på P1.1 fra Øving 1 som et eksempel på hvordan de skal se ut.\n",
    "Dvs. opprett en kodecelle, kommenter på toppen hvilken deloppgave det dreier seg om, og så kommer kodelinjene. Sørg for å legg inn greit med kommentarer i koden også._\n",
    "### ###\n"
   ]
  },
  {
   "cell_type": "code",
   "execution_count": 40,
   "metadata": {},
   "outputs": [
    {
     "name": "stdout",
     "output_type": "stream",
     "text": [
      "Bonjour!\n"
     ]
    }
   ],
   "source": [
    "#\n",
    "#    Besvarelse P1.1\n",
    "#\n",
    "\n",
    "#  Print Hello på fransk\n",
    "#\n",
    "print(\"Bonjour!\")\n"
   ]
  },
  {
   "cell_type": "code",
   "execution_count": 41,
   "metadata": {},
   "outputs": [],
   "source": [
    "#\n",
    "#    Besvarelse P1.2\n",
    "#\n",
    "\n",
    "#  Printer summen av de 10 første positive heltall\n",
    "#\n"
   ]
  },
  {
   "cell_type": "code",
   "execution_count": 42,
   "metadata": {},
   "outputs": [],
   "source": [
    "#\n",
    "#    Og så fortsetter du bare å legge til nye kodeceller til besvarelsen av hver deloppgave.\n",
    "#    Husk at du eksekverer innholdet i en celle ved å trykke shift-enter når du står inne i cellen.\n",
    "#    Og dobbelklikk på en celle for å komme inn i den for redigere innholdet.\n",
    "#"
   ]
  },
  {
   "cell_type": "code",
   "execution_count": 43,
   "metadata": {},
   "outputs": [
    {
     "name": "stdout",
     "output_type": "stream",
     "text": [
      "The integer is positive.\n",
      "The integer is zero.\n",
      "The integer is negative.\n"
     ]
    }
   ],
   "source": [
    "#\n",
    "#   Besvarelse P3.1\n",
    "#\n",
    "\n",
    "def integerNegativeZeroOrPositive(integer):\n",
    "\n",
    "    # Sjekker om tallet er lik 0\n",
    "    if integer == 0:\n",
    "        return(\"The integer is zero.\")\n",
    "    # Sjekker om tallet er mindre enn 0\n",
    "    elif integer < 0:\n",
    "        return(\"The integer is negative.\")\n",
    "    else:\n",
    "        return(\"The integer is positive.\")\n",
    "\n",
    "print(integerNegativeZeroOrPositive(100))\n",
    "print(integerNegativeZeroOrPositive(0))\n",
    "print(integerNegativeZeroOrPositive(-100))"
   ]
  },
  {
   "cell_type": "code",
   "execution_count": 73,
   "metadata": {},
   "outputs": [
    {
     "name": "stdout",
     "output_type": "stream",
     "text": [
      "small positive\n",
      "zero\n",
      "large negative\n"
     ]
    }
   ],
   "source": [
    "#\n",
    "#   Besvarelse P3.2\n",
    "#\n",
    "\n",
    "def floatNegativeZeroOrPositive(floatValue):\n",
    "    # Sjekker om tallet er 0\n",
    "    if floatValue == 0:\n",
    "        return \"zero\"\n",
    "    # Sjekker om tallet er mindre enn 0\n",
    "    elif floatValue < 0:\n",
    "        # Sjekker om absolutt verdien av tallet er mindre enn 1\n",
    "        if abs(floatValue) < 1:\n",
    "            return \"small negative\"\n",
    "        # Sjekker om absolutt verdien av tallet er større enn 1000000\n",
    "        elif abs(floatValue) > 1000000:\n",
    "            return \"large negative\"\n",
    "        # Returnerer \"negative\" hvis ingen av statementene ovenfor blir True\n",
    "        return \"negative\"\n",
    "    else:\n",
    "        if abs(floatValue) < 1:\n",
    "            return \"small positive\"\n",
    "        elif abs(floatValue) > 1000000:\n",
    "            return \"large positive\"\n",
    "    \n",
    "        return \"positive\"\n",
    "\n",
    "print(floatNegativeZeroOrPositive(0.4))\n",
    "print(floatNegativeZeroOrPositive(0.0))\n",
    "print(floatNegativeZeroOrPositive(-1000001))\n"
   ]
  },
  {
   "cell_type": "code",
   "execution_count": 76,
   "metadata": {},
   "outputs": [
    {
     "name": "stdout",
     "output_type": "stream",
     "text": [
      "1\n",
      "2\n",
      "3\n",
      "4\n",
      "5\n",
      "6\n",
      "7\n",
      "8\n",
      "9\n",
      "10\n"
     ]
    }
   ],
   "source": [
    "#\n",
    "#   Besvarelse P3.3\n",
    "#\n",
    "\n",
    "def digitsInNumber(integer):\n",
    "    # Hvis tallet er mindre enn 0 ganger jeg med -1\n",
    "    if integer < 0: integer *= -1\n",
    "    \n",
    "    # Setter i til å være 10\n",
    "    i = 10\n",
    "\n",
    "    # Starter en while loop som går opp til 10 milliarder\n",
    "    while i <= 10_000_000_000:\n",
    "        # Hvis tallet er større enn i ganges i med 10\n",
    "        if integer >= i:\n",
    "            i *= 10\n",
    "        else:\n",
    "            # Returnerer lengden av i // 10.\n",
    "            return len(str(i // 10))\n",
    "            # Kunne skrevet return len(integer), blir føler det ikke var skikkelig nok\n",
    "\n",
    "print(digitsInNumber(0))\n",
    "print(digitsInNumber(11))\n",
    "print(digitsInNumber(102))\n",
    "print(digitsInNumber(1003))\n",
    "print(digitsInNumber(10004))\n",
    "print(digitsInNumber(100005))\n",
    "print(digitsInNumber(1000006))\n",
    "print(digitsInNumber(10000007))\n",
    "print(digitsInNumber(100000008))\n",
    "print(digitsInNumber(1000000009))"
   ]
  },
  {
   "cell_type": "code",
   "execution_count": 46,
   "metadata": {},
   "outputs": [
    {
     "name": "stdout",
     "output_type": "stream",
     "text": [
      "all different\n",
      "all the same\n",
      "neither\n"
     ]
    }
   ],
   "source": [
    "#\n",
    "#   Besvarelse P3.4\n",
    "#\n",
    "\n",
    "def checkIfAlike(num1, num2, num3):\n",
    "    # Lager et set med tallene ettersom et set ikke kan ha duplicate values\n",
    "    nums = set([num1, num2, num3])\n",
    "\n",
    "    # Sjekket lengden av setet for å sjekke hva jeg skal returnere\n",
    "    if len(nums) == 3:\n",
    "        return \"all different\"\n",
    "    elif len(nums) == 1:\n",
    "        return \"all the same\"\n",
    "    else:\n",
    "        return \"neither\"\n",
    "\n",
    "print(checkIfAlike(1, 2, 3))\n",
    "print(checkIfAlike(2, 2, 2))\n",
    "print(checkIfAlike(3, 3, 1))"
   ]
  },
  {
   "cell_type": "code",
   "execution_count": 47,
   "metadata": {},
   "outputs": [
    {
     "name": "stdout",
     "output_type": "stream",
     "text": [
      "increasing\n",
      "decreasing\n",
      "neither\n"
     ]
    }
   ],
   "source": [
    "#\n",
    "#   Besvarelse P3.5\n",
    "#\n",
    "\n",
    "def checkType(num1, num2, num3):\n",
    "    # Lager en liste med tallene\n",
    "    numbers = [num1, num2, num3]\n",
    "\n",
    "    # Sjekker om tallene er stigende\n",
    "    if (numbers[0] < numbers[1] and numbers[1] < numbers[-1]):\n",
    "        return \"increasing\"\n",
    "    # Sjekker om tallene er synkende\n",
    "    elif (numbers[0] > numbers[1] and numbers[1] > numbers[-1]):\n",
    "        return \"decreasing\"\n",
    "    else:\n",
    "        return \"neither\"\n",
    "\n",
    "print(checkType(1, 2, 3))\n",
    "print(checkType(3, 2, 1))\n",
    "print(checkType(1, 3, 2))"
   ]
  },
  {
   "cell_type": "code",
   "execution_count": 52,
   "metadata": {},
   "outputs": [
    {
     "name": "stdout",
     "output_type": "stream",
     "text": [
      "increasing\n",
      "decreasing\n",
      "neither\n",
      "increasing\n",
      "increasing and decreasing\n"
     ]
    }
   ],
   "source": [
    "#\n",
    "#   Besvarelse P3.6\n",
    "#\n",
    "\n",
    "mode = input(\"Would you like to use strict or lenient mode?: \").lower()\n",
    "\n",
    "def checkType2(num1, num2, num3, mode):\n",
    "    # Lager en liste av tallene\n",
    "    numbers = [num1, num2, num3]\n",
    "\n",
    "    if mode == \"strict\":\n",
    "        # Gjør det samme som i P3.5\n",
    "        if (numbers[0] < numbers[1] and numbers[1] < numbers[-1]):\n",
    "            return \"increasing\"\n",
    "        elif (numbers[0] > numbers[1] and numbers[1] > numbers[-1]):\n",
    "            return \"decreasing\"\n",
    "        else:\n",
    "            return \"neither\"\n",
    "\n",
    "    elif mode == \"lenient\":\n",
    "        # Sjekker om alle tallene er like\n",
    "        if len(set(numbers)) == 1:\n",
    "            return \"increasing and decreasing\"\n",
    "        # Sjekker om tallene er stigende\n",
    "        elif (numbers[0] <= numbers[1] and numbers[1] <= numbers[-1]):\n",
    "            return \"increasing\"\n",
    "        # Sjekekr om tallene er synkende\n",
    "        elif numbers[0] > numbers[1] and numbers[1] > numbers[-1]:\n",
    "            return \"decreasing\"\n",
    "        else:\n",
    "            return \"neither\"\n",
    "    else:\n",
    "        raise Exception(\"The entered mode was invalid.\")\n",
    "\n",
    "print(checkType2(1, 2, 3, mode))\n",
    "print(checkType2(3, 2, 1, mode))\n",
    "print(checkType2(1, 3, 2, mode))\n",
    "print(checkType2(3, 4, 4, mode))\n",
    "print(checkType2(4, 4, 4, mode))"
   ]
  },
  {
   "cell_type": "code",
   "execution_count": 20,
   "metadata": {},
   "outputs": [
    {
     "name": "stdout",
     "output_type": "stream",
     "text": [
      "gaseous\n"
     ]
    }
   ],
   "source": [
    "#\n",
    "#   Besvarelse P3.11\n",
    "#\n",
    "\n",
    "# Spør om enhetene temperatur og høyde skal måles i\n",
    "unitDegree = input(\"Do you wish to measure in Celsius or F?: C/F \").upper()\n",
    "unitAltitude = input(\"Do you wish to measure altitude in Meter or Feet?: M/F\").upper()\n",
    "\n",
    "def stateOfWater(temperature, altitude, unitDegree, unitAltitude):\n",
    "    # Sjekker at enhetene er gitt riktig\n",
    "    if not(unitDegree == \"F\" or unitDegree == \"C\") or not(unitAltitude == \"M\" or unitAltitude == \"F\"):\n",
    "        raise Exception(\"One (or both) of the given units is invalid.\")\n",
    "\n",
    "    # Konverterer fahrenheit til celsius\n",
    "    if unitDegree == \"F\":\n",
    "        temperature = (temperature - 32) * (5/9)\n",
    "    # Konverterer feet til meter\n",
    "    if unitAltitude == \"F\":\n",
    "        altitude /= 3.2808\n",
    "\n",
    "    # Sjekker temperaturen\n",
    "    if temperature <= 0:\n",
    "        return \"solid\"\n",
    "    elif temperature >= 100 - (altitude / 300):\n",
    "        return \"gaseous\"\n",
    "    else:\n",
    "        return \"liquid\"\n",
    "\n",
    "print(stateOfWater(98, 600, unitDegree, unitAltitude))"
   ]
  },
  {
   "cell_type": "code",
   "execution_count": 102,
   "metadata": {},
   "outputs": [
    {
     "name": "stdout",
     "output_type": "stream",
     "text": [
      "The string:\n",
      "Contains only lowercase letters.\n",
      "\n",
      "The string:\n",
      "Contains only uppercase letters.\n",
      "\n",
      "The string:\n",
      "Contains only lowercase letters.\n",
      "\n",
      "The string:\n",
      "Contains only digits.\n",
      "Contains only letters and digits.\n",
      "\n",
      "The string:\n",
      "Contains only lowercase letters.\n",
      "\n",
      "The string:\n",
      "Contains only letters.\n",
      "Contains only letters and digits.\n",
      "Starts with an uppercase letter.\n",
      "\n",
      "The string:\n",
      "Ends with a period.\n",
      "\n",
      "The string doens't satisfy and of the conditions.\n",
      "\n"
     ]
    }
   ],
   "source": [
    "#\n",
    "#   Besvarelse P3.17\n",
    "#\n",
    "\n",
    "def checkString(string):\n",
    "    output = \"The string:\\n\"\n",
    "    \n",
    "    # Sjekker etter det oppgaven spør om.\n",
    "    if string.isalpha():\n",
    "        output += \"Contains only letters.\\n\"\n",
    "    if string.isupper():\n",
    "        output += \"Contains only uppercase letters.\\n\"\n",
    "    if string.islower():\n",
    "        output += \"Contains only lowercase letters.\\n\"\n",
    "    if string.isnumeric():\n",
    "        output += \"Contains only digits.\\n\"\n",
    "    if string.isalnum():\n",
    "        output += \"Contains only letters and digits.\\n\"\n",
    "    if string.istitle():\n",
    "        output += \"Starts with an uppercase letter.\\n\"\n",
    "    if string.endswith(\".\"):\n",
    "        output += \"Ends with a period.\\n\"\n",
    "\n",
    "    # Sjekker om start stringen fortsatt har samme lengde.\n",
    "    if len(output) == 12:\n",
    "        return \"The string doens't satisfy and of the conditions.\\n\"\n",
    "\n",
    "    return output\n",
    "    \n",
    "\n",
    "print(checkString(\"only letters\"))\n",
    "print(checkString(\"ONLY UPPERCASE\"))\n",
    "print(checkString(\"only lowercase\"))\n",
    "print(checkString(\"111\"))\n",
    "print(checkString(\"letters and d1g1ts\"))\n",
    "print(checkString(\"Title\"))\n",
    "print(checkString(\"Ends with a period.\"))\n",
    "print(checkString(\"dOesn'T SatisFy aNy coNDiTion\"))"
   ]
  },
  {
   "cell_type": "code",
   "execution_count": 8,
   "metadata": {},
   "outputs": [
    {
     "name": "stdout",
     "output_type": "stream",
     "text": [
      "8:00\n",
      "12:34\n",
      "12:15\n",
      "21:00\n",
      "13:00 is the same as 13:00\n"
     ]
    }
   ],
   "source": [
    "#\n",
    "#   Besvarelse P3.18\n",
    "#\n",
    "\n",
    "# Kjører tre ganger for å få sjekket alle outcomes\n",
    "for _ in range(3):\n",
    "    # Får inputs fra brukeren\n",
    "    time1 = input(\"Enter the first point in time in hh:mm (military) format: \")\n",
    "    time2 = input(\"Enter the second point in time in hh:mm (military) format: \")\n",
    "\n",
    "    # Gjør om til timer og minutt\n",
    "    hours1, minutes1 = time1.split(\":\")\n",
    "    hours1 = int(hours1)\n",
    "    hours2, minutes2 = time2.split(\":\")\n",
    "    hours2 = int(hours2)\n",
    "\n",
    "    # Lager det som skal printes\n",
    "    hour1First = f\"{hours1}:{minutes1}\\n{hours2}:{minutes2}\"\n",
    "    hour2First = f\"{hours2}:{minutes2}\\n{hours1}:{minutes1}\"\n",
    "    hoursAlike = f\"{hours1}:{minutes1} is the same as {hours2}:{minutes2}\"\n",
    "\n",
    "    # Skrver psuedo koden i python\n",
    "    if hours1 < hours2:\n",
    "        print(hour1First)\n",
    "    elif hours1 == hours2:\n",
    "        if int(minutes1) < int(minutes2):\n",
    "            print(hour2First)\n",
    "        elif minutes1 == minutes2:\n",
    "            print(hoursAlike)\n",
    "        else:\n",
    "            print(hour2First)\n",
    "    else:\n",
    "        print(hour2First)\n"
   ]
  },
  {
   "cell_type": "code",
   "execution_count": 48,
   "metadata": {},
   "outputs": [
    {
     "name": "stdout",
     "output_type": "stream",
     "text": [
      "A: Vowel\n",
      "B: Consonant\n"
     ]
    }
   ],
   "source": [
    "#\n",
    "#   Besvarelse P3.19\n",
    "#\n",
    "\n",
    "import re\n",
    "\n",
    "# Sier hvilke bokstaver som skal aksepteres\n",
    "pattern = re.compile(\"[A-Z]\")\n",
    "\n",
    "# Kjører to ganger for å få begge outputs\n",
    "for _ in range(2):\n",
    "    # Gjør inputen uppercase så jeg ikke trenger like mange checks i if statement\n",
    "    character = input(\"Enter a character from A-Z: \").upper()\n",
    "\n",
    "    # Sjekker om den har ulovlige bokstaver eller er lengre enn 1 bokstav\n",
    "    if not pattern.fullmatch(character) or len(character) > 1:\n",
    "        raise Exception(\"Invalid Input!\")\n",
    "\n",
    "    # Sjekker om det er en vokal eller konsonant\n",
    "    if character == \"A\" or character == \"E\" or character == \"I\" or character == \"O\" or character == \"U\":\n",
    "        print(f\"{character}: Vowel\")\n",
    "    else:\n",
    "        print(f\"{character}: Consonant\")"
   ]
  },
  {
   "cell_type": "code",
   "execution_count": 46,
   "metadata": {},
   "outputs": [
    {
     "name": "stdout",
     "output_type": "stream",
     "text": [
      "They are the same up to two decimal places.\n",
      "They are different.\n"
     ]
    }
   ],
   "source": [
    "#\n",
    "#   Besvarelse P3.21\n",
    "#\n",
    "\n",
    "# Funkjson for å dele opp tallet\n",
    "def split(string):\n",
    "    return [character for character in string]\n",
    "\n",
    "def checkDecimalPlaces(num1, num2):\n",
    "    # Får de to første desimal plassene\n",
    "    num1 = split(str(round(num1, 2)))[2:4]\n",
    "    num2 = split(str(round(num2, 2)))[2:4]\n",
    "\n",
    "    # Sjekker om det er to desimal plasser, hvis ikke legger jeg til en\n",
    "    if len(num1) == 1:\n",
    "        num1.append(0)\n",
    "    if len(num2) == 1:\n",
    "        num2.append(0)\n",
    "\n",
    "    # Sjekker om de to første desimaltallene er like i begge tallene\n",
    "    if int(num1[0]) == int(num1[1]) and int(num2[0]) == int(num2[1]):\n",
    "        return \"They are the same up to two decimal places.\"\n",
    "    else:\n",
    "        return \"They are different.\"\n",
    "\n",
    "# Kjører to ganger for å få begge outputs\n",
    "for _ in range(2):\n",
    "    num1 = float(input(\"Enter a floating-point number: \"))\n",
    "    num2 = float(input(\"Enter a floating-point number: \"))\n",
    "\n",
    "    print(checkDecimalPlaces(num1, num2))"
   ]
  },
  {
   "cell_type": "code",
   "execution_count": 67,
   "metadata": {},
   "outputs": [
    {
     "name": "stdout",
     "output_type": "stream",
     "text": [
      "25.0\n"
     ]
    },
    {
     "ename": "Exception",
     "evalue": "Invalid Input!\nV_m should be between 12 and 18.",
     "output_type": "error",
     "traceback": [
      "\u001b[1;31m---------------------------------------------------------------------------\u001b[0m",
      "\u001b[1;31mException\u001b[0m                                 Traceback (most recent call last)",
      "\u001b[1;32m~\\AppData\\Local\\Temp/ipykernel_3808/1321081001.py\u001b[0m in \u001b[0;36m<module>\u001b[1;34m\u001b[0m\n\u001b[0;32m     13\u001b[0m \u001b[0mprint\u001b[0m\u001b[1;33m(\u001b[0m\u001b[0mtemperatureInCircuit\u001b[0m\u001b[1;33m(\u001b[0m\u001b[1;36m12\u001b[0m\u001b[1;33m)\u001b[0m\u001b[1;33m)\u001b[0m\u001b[1;33m\u001b[0m\u001b[1;33m\u001b[0m\u001b[0m\n\u001b[0;32m     14\u001b[0m \u001b[1;33m\u001b[0m\u001b[0m\n\u001b[1;32m---> 15\u001b[1;33m \u001b[0mprint\u001b[0m\u001b[1;33m(\u001b[0m\u001b[0mtemperatureInCircuit\u001b[0m\u001b[1;33m(\u001b[0m\u001b[1;36m11\u001b[0m\u001b[1;33m)\u001b[0m\u001b[1;33m)\u001b[0m\u001b[1;33m\u001b[0m\u001b[1;33m\u001b[0m\u001b[0m\n\u001b[0m",
      "\u001b[1;32m~\\AppData\\Local\\Temp/ipykernel_3808/1321081001.py\u001b[0m in \u001b[0;36mtemperatureInCircuit\u001b[1;34m(V_m)\u001b[0m\n\u001b[0;32m      5\u001b[0m \u001b[1;32mdef\u001b[0m \u001b[0mtemperatureInCircuit\u001b[0m\u001b[1;33m(\u001b[0m\u001b[0mV_m\u001b[0m\u001b[1;33m)\u001b[0m\u001b[1;33m:\u001b[0m\u001b[1;33m\u001b[0m\u001b[1;33m\u001b[0m\u001b[0m\n\u001b[0;32m      6\u001b[0m     \u001b[1;32mif\u001b[0m \u001b[0mV_m\u001b[0m \u001b[1;33m<\u001b[0m \u001b[1;36m12\u001b[0m \u001b[1;32mor\u001b[0m \u001b[0mV_m\u001b[0m \u001b[1;33m>\u001b[0m \u001b[1;36m18\u001b[0m\u001b[1;33m:\u001b[0m\u001b[1;33m\u001b[0m\u001b[1;33m\u001b[0m\u001b[0m\n\u001b[1;32m----> 7\u001b[1;33m         \u001b[1;32mraise\u001b[0m \u001b[0mException\u001b[0m\u001b[1;33m(\u001b[0m\u001b[1;34m\"Invalid Input!\\nV_m should be between 12 and 18.\"\u001b[0m\u001b[1;33m)\u001b[0m\u001b[1;33m\u001b[0m\u001b[1;33m\u001b[0m\u001b[0m\n\u001b[0m\u001b[0;32m      8\u001b[0m \u001b[1;33m\u001b[0m\u001b[0m\n\u001b[0;32m      9\u001b[0m     \u001b[0mR_s\u001b[0m\u001b[1;33m,\u001b[0m \u001b[0mk\u001b[0m\u001b[1;33m,\u001b[0m \u001b[0mV_s\u001b[0m\u001b[1;33m,\u001b[0m \u001b[0mR_0\u001b[0m \u001b[1;33m=\u001b[0m \u001b[1;36m75\u001b[0m\u001b[1;33m,\u001b[0m \u001b[1;36m0.5\u001b[0m\u001b[1;33m,\u001b[0m \u001b[1;36m20\u001b[0m\u001b[1;33m,\u001b[0m \u001b[1;36m100\u001b[0m\u001b[1;33m\u001b[0m\u001b[1;33m\u001b[0m\u001b[0m\n",
      "\u001b[1;31mException\u001b[0m: Invalid Input!\nV_m should be between 12 and 18."
     ]
    }
   ],
   "source": [
    "#\n",
    "#   Besvarelse P3.48\n",
    "#\n",
    "\n",
    "def temperatureInCircuit(V_m):\n",
    "    if V_m < 12 or V_m > 18:\n",
    "        raise Exception(\"Invalid Input!\\nV_m should be between 12 and 18.\")\n",
    "\n",
    "    R_s, k, V_s, R_0 = 75, 0.5, 20, 100\n",
    "\n",
    "    return (R_s/k) * (V_m/(V_s-V_m)) - (R_0/k)\n",
    "\n",
    "print(temperatureInCircuit(12))\n",
    "\n",
    "# Denne skal gi en error \n",
    "print(temperatureInCircuit(11))"
   ]
  },
  {
   "cell_type": "code",
   "execution_count": 66,
   "metadata": {},
   "outputs": [
    {
     "name": "stdout",
     "output_type": "stream",
     "text": [
      "The alarm will sound.\n",
      "The alarm won't sound.\n"
     ]
    }
   ],
   "source": [
    "#\n",
    "#   Besvarelse P3.49\n",
    "#\n",
    "\n",
    "import math\n",
    "\n",
    "def soundTheAlarm(T):\n",
    "    # Anviser veriablene\n",
    "    R_0, T_0, beta, T = 33192, 40 + 273, 3310, (T - 32) * (5/9) + 273\n",
    "    R_2 = R_3 = R_4 = 156300\n",
    "\n",
    "    # Regner ut R\n",
    "    R = R_0 * (math.e ** (beta * ((1 / T) - (1 / T_0))))\n",
    "\n",
    "    # Regner ut hver side av likningen\n",
    "    leftSide = R_2/(R + R_2)\n",
    "    rightSide = R_4/(R_3 + R_4)\n",
    "\n",
    "    # Sjekker om alarmen skal ringe\n",
    "    if leftSide < rightSide:\n",
    "        return \"The alarm will sound.\"\n",
    "    else:\n",
    "        return \"The alarm won't sound.\"\n",
    "\n",
    "# Printer ut resultatet\n",
    "print(soundTheAlarm(0))\n",
    "print(soundTheAlarm(32))"
   ]
  }
 ],
 "metadata": {
  "interpreter": {
   "hash": "63fd5069d213b44bf678585dea6b12cceca9941eaf7f819626cde1f2670de90d"
  },
  "kernelspec": {
   "display_name": "Python 3.9.6 64-bit",
   "name": "python3"
  },
  "language_info": {
   "codemirror_mode": {
    "name": "ipython",
    "version": 3
   },
   "file_extension": ".py",
   "mimetype": "text/x-python",
   "name": "python",
   "nbconvert_exporter": "python",
   "pygments_lexer": "ipython3",
   "version": "3.9.6"
  }
 },
 "nbformat": 4,
 "nbformat_minor": 4
}
