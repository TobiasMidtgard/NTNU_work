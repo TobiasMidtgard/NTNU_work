{
 "cells": [
  {
   "cell_type": "markdown",
   "source": [
    "# Øving 2  -   INGT1001 Elektro: Python-modulen #\n",
    "> ### Frist: søndag 26/9, kl. 23.59\n",
    "> ### Levering: på vår underside (https://ntnu.blackboard.com/webapps/blackboard/execute/modulepage/view?course_id=_32669_1&cmp_tab_id=_252410_1&editMode=true&mode=cpview#) på Blackboard under folderen Arbeidskrav\n",
    "> __Godkjenningskrav:__  _P3.17-19 og P3.48-49 må være gjort + minst 50% av de øvrige deloppgavene_"
   ],
   "metadata": {
    "tags": []
   }
  },
  {
   "cell_type": "markdown",
   "source": [
    "### Fra Chapter 3, Python for Everyone ###\n",
    "> __Programming Execises: P3.1-6, P3.11, P3.17-19, P3.21, P3.48-49__<br>\n",
    "\n",
    "_Nedenfor ser du besvarelsen på P1.1 fra Øving 1 som et eksempel på hvordan de skal se ut.\n",
    "Dvs. opprett en kodecelle, kommenter på toppen hvilken deloppgave det dreier seg om, og så kommer kodelinjene. Sørg for å legg inn greit med kommentarer i koden også._\n",
    "### ###\n"
   ],
   "metadata": {}
  },
  {
   "cell_type": "code",
   "execution_count": 40,
   "source": [
    "#\r\n",
    "#    Besvarelse P1.1\r\n",
    "#\r\n",
    "\r\n",
    "#  Print Hello på fransk\r\n",
    "#\r\n",
    "print(\"Bonjour!\")\r\n"
   ],
   "outputs": [
    {
     "output_type": "stream",
     "name": "stdout",
     "text": [
      "Bonjour!\n"
     ]
    }
   ],
   "metadata": {}
  },
  {
   "cell_type": "code",
   "execution_count": 41,
   "source": [
    "#\r\n",
    "#    Besvarelse P1.2\r\n",
    "#\r\n",
    "\r\n",
    "#  Printer summen av de 10 første positive heltall\r\n",
    "#\r\n"
   ],
   "outputs": [],
   "metadata": {}
  },
  {
   "cell_type": "code",
   "execution_count": 42,
   "source": [
    "#\r\n",
    "#    Og så fortsetter du bare å legge til nye kodeceller til besvarelsen av hver deloppgave.\r\n",
    "#    Husk at du eksekverer innholdet i en celle ved å trykke shift-enter når du står inne i cellen.\r\n",
    "#    Og dobbelklikk på en celle for å komme inn i den for redigere innholdet.\r\n",
    "#"
   ],
   "outputs": [],
   "metadata": {}
  },
  {
   "cell_type": "code",
   "execution_count": 43,
   "source": [
    "#\r\n",
    "#   Besvarelse P3.1\r\n",
    "#\r\n",
    "\r\n",
    "def integerNegativeZeroOrPositive(integer):\r\n",
    "\r\n",
    "    # Sjekker om tallet er lik 0\r\n",
    "    if integer == 0:\r\n",
    "        return(\"The integer is zero.\")\r\n",
    "    # Sjekker om tallet er mindre enn 0\r\n",
    "    elif integer < 0:\r\n",
    "        return(\"The integer is negative.\")\r\n",
    "    else:\r\n",
    "        return(\"The integer is positive.\")\r\n",
    "\r\n",
    "print(integerNegativeZeroOrPositive(100))\r\n",
    "print(integerNegativeZeroOrPositive(0))\r\n",
    "print(integerNegativeZeroOrPositive(-100))"
   ],
   "outputs": [
    {
     "output_type": "stream",
     "name": "stdout",
     "text": [
      "The integer is positive.\n",
      "The integer is zero.\n",
      "The integer is negative.\n"
     ]
    }
   ],
   "metadata": {}
  },
  {
   "cell_type": "code",
   "execution_count": 73,
   "source": [
    "#\r\n",
    "#   Besvarelse P3.2\r\n",
    "#\r\n",
    "\r\n",
    "def floatNegativeZeroOrPositive(floatValue):\r\n",
    "    # Sjekker om tallet er 0\r\n",
    "    if floatValue == 0:\r\n",
    "        return \"zero\"\r\n",
    "    # Sjekker om tallet er mindre enn 0\r\n",
    "    elif floatValue < 0:\r\n",
    "        # Sjekker om absolutt verdien av tallet er mindre enn 1\r\n",
    "        if abs(floatValue) < 1:\r\n",
    "            return \"small negative\"\r\n",
    "        # Sjekker om absolutt verdien av tallet er større enn 1000000\r\n",
    "        elif abs(floatValue) > 1000000:\r\n",
    "            return \"large negative\"\r\n",
    "        # Returnerer \"negative\" hvis ingen av statementene ovenfor blir True\r\n",
    "        return \"negative\"\r\n",
    "    else:\r\n",
    "        if abs(floatValue) < 1:\r\n",
    "            return \"small positive\"\r\n",
    "        elif abs(floatValue) > 1000000:\r\n",
    "            return \"large positive\"\r\n",
    "    \r\n",
    "        return \"positive\"\r\n",
    "\r\n",
    "print(floatNegativeZeroOrPositive(0.4))\r\n",
    "print(floatNegativeZeroOrPositive(0.0))\r\n",
    "print(floatNegativeZeroOrPositive(-1000001))\r\n"
   ],
   "outputs": [
    {
     "output_type": "stream",
     "name": "stdout",
     "text": [
      "small positive\n",
      "zero\n",
      "large negative\n"
     ]
    }
   ],
   "metadata": {}
  },
  {
   "cell_type": "code",
   "execution_count": 76,
   "source": [
    "#\r\n",
    "#   Besvarelse P3.3\r\n",
    "#\r\n",
    "\r\n",
    "def digitsInNumber(integer):\r\n",
    "    # Hvis tallet er mindre enn 0 ganger jeg med -1\r\n",
    "    if integer < 0: integer *= -1\r\n",
    "    \r\n",
    "    # Setter i til å være 10\r\n",
    "    i = 10\r\n",
    "\r\n",
    "    # Starter en while loop som går opp til 10 milliarder\r\n",
    "    while i <= 10_000_000_000:\r\n",
    "        # Hvis tallet er større enn i ganges i med 10\r\n",
    "        if integer >= i:\r\n",
    "            i *= 10\r\n",
    "        else:\r\n",
    "            # Returnerer lengden av i // 10.\r\n",
    "            return len(str(i // 10))\r\n",
    "            # Kunne skrevet return len(integer), blir føler det ikke var skikkelig nok\r\n",
    "\r\n",
    "print(digitsInNumber(0))\r\n",
    "print(digitsInNumber(11))\r\n",
    "print(digitsInNumber(102))\r\n",
    "print(digitsInNumber(1003))\r\n",
    "print(digitsInNumber(10004))\r\n",
    "print(digitsInNumber(100005))\r\n",
    "print(digitsInNumber(1000006))\r\n",
    "print(digitsInNumber(10000007))\r\n",
    "print(digitsInNumber(100000008))\r\n",
    "print(digitsInNumber(1000000009))"
   ],
   "outputs": [
    {
     "output_type": "stream",
     "name": "stdout",
     "text": [
      "1\n",
      "2\n",
      "3\n",
      "4\n",
      "5\n",
      "6\n",
      "7\n",
      "8\n",
      "9\n",
      "10\n"
     ]
    }
   ],
   "metadata": {}
  },
  {
   "cell_type": "code",
   "execution_count": 46,
   "source": [
    "#\r\n",
    "#   Besvarelse P3.4\r\n",
    "#\r\n",
    "\r\n",
    "def checkIfAlike(num1, num2, num3):\r\n",
    "    # Lager et set med tallene ettersom et set ikke kan ha duplicate values\r\n",
    "    nums = set([num1, num2, num3])\r\n",
    "\r\n",
    "    # Sjekket lengden av setet for å sjekke hva jeg skal returnere\r\n",
    "    if len(nums) == 3:\r\n",
    "        return \"all different\"\r\n",
    "    elif len(nums) == 1:\r\n",
    "        return \"all the same\"\r\n",
    "    else:\r\n",
    "        return \"neither\"\r\n",
    "\r\n",
    "print(checkIfAlike(1, 2, 3))\r\n",
    "print(checkIfAlike(2, 2, 2))\r\n",
    "print(checkIfAlike(3, 3, 1))"
   ],
   "outputs": [
    {
     "output_type": "stream",
     "name": "stdout",
     "text": [
      "all different\n",
      "all the same\n",
      "neither\n"
     ]
    }
   ],
   "metadata": {}
  },
  {
   "cell_type": "code",
   "execution_count": 47,
   "source": [
    "#\r\n",
    "#   Besvarelse P3.5\r\n",
    "#\r\n",
    "\r\n",
    "def checkType(num1, num2, num3):\r\n",
    "    # Lager en liste med tallene\r\n",
    "    numbers = [num1, num2, num3]\r\n",
    "\r\n",
    "    # Sjekker om tallene er stigende\r\n",
    "    if (numbers[0] < numbers[1] and numbers[1] < numbers[-1]):\r\n",
    "        return \"increasing\"\r\n",
    "    # Sjekker om tallene er synkende\r\n",
    "    elif (numbers[0] > numbers[1] and numbers[1] > numbers[-1]):\r\n",
    "        return \"decreasing\"\r\n",
    "    else:\r\n",
    "        return \"neither\"\r\n",
    "\r\n",
    "print(checkType(1, 2, 3))\r\n",
    "print(checkType(3, 2, 1))\r\n",
    "print(checkType(1, 3, 2))"
   ],
   "outputs": [
    {
     "output_type": "stream",
     "name": "stdout",
     "text": [
      "increasing\n",
      "decreasing\n",
      "neither\n"
     ]
    }
   ],
   "metadata": {}
  },
  {
   "cell_type": "code",
   "execution_count": 52,
   "source": [
    "#\r\n",
    "#   Besvarelse P3.6\r\n",
    "#\r\n",
    "\r\n",
    "mode = input(\"Would you like to use strict or lenient mode?: \").lower()\r\n",
    "\r\n",
    "def checkType2(num1, num2, num3, mode):\r\n",
    "    # Lager en liste av tallene\r\n",
    "    numbers = [num1, num2, num3]\r\n",
    "\r\n",
    "    if mode == \"strict\":\r\n",
    "        # Gjør det samme som i P3.5\r\n",
    "        if (numbers[0] < numbers[1] and numbers[1] < numbers[-1]):\r\n",
    "            return \"increasing\"\r\n",
    "        elif (numbers[0] > numbers[1] and numbers[1] > numbers[-1]):\r\n",
    "            return \"decreasing\"\r\n",
    "        else:\r\n",
    "            return \"neither\"\r\n",
    "\r\n",
    "    elif mode == \"lenient\":\r\n",
    "        # Sjekker om alle tallene er like\r\n",
    "        if len(set(numbers)) == 1:\r\n",
    "            return \"increasing and decreasing\"\r\n",
    "        # Sjekker om tallene er stigende\r\n",
    "        elif (numbers[0] <= numbers[1] and numbers[1] <= numbers[-1]):\r\n",
    "            return \"increasing\"\r\n",
    "        # Sjekekr om tallene er synkende\r\n",
    "        elif numbers[0] > numbers[1] and numbers[1] > numbers[-1]:\r\n",
    "            return \"decreasing\"\r\n",
    "        else:\r\n",
    "            return \"neither\"\r\n",
    "    else:\r\n",
    "        raise Exception(\"The entered mode was invalid.\")\r\n",
    "\r\n",
    "print(checkType2(1, 2, 3, mode))\r\n",
    "print(checkType2(3, 2, 1, mode))\r\n",
    "print(checkType2(1, 3, 2, mode))\r\n",
    "print(checkType2(3, 4, 4, mode))\r\n",
    "print(checkType2(4, 4, 4, mode))"
   ],
   "outputs": [
    {
     "output_type": "stream",
     "name": "stdout",
     "text": [
      "increasing\n",
      "decreasing\n",
      "neither\n",
      "increasing\n",
      "increasing and decreasing\n"
     ]
    }
   ],
   "metadata": {}
  },
  {
   "cell_type": "code",
   "execution_count": 20,
   "source": [
    "#\r\n",
    "#   Besvarelse P3.11\r\n",
    "#\r\n",
    "\r\n",
    "# Spør om enhetene temperatur og høyde skal måles i\r\n",
    "unitDegree = input(\"Do you wish to measure in Celsius or F?: C/F \").upper()\r\n",
    "unitAltitude = input(\"Do you wish to measure altitude in Meter or Feet?: M/F\").upper()\r\n",
    "\r\n",
    "def stateOfWater(temperature, altitude, unitDegree, unitAltitude):\r\n",
    "    # Sjekker at enhetene er gitt riktig\r\n",
    "    if not(unitDegree == \"F\" or unitDegree == \"C\") or not(unitAltitude == \"M\" or unitAltitude == \"F\"):\r\n",
    "        raise Exception(\"One (or both) of the given units is invalid.\")\r\n",
    "\r\n",
    "    # Konverterer fahrenheit til celsius\r\n",
    "    if unitDegree == \"F\":\r\n",
    "        temperature = (temperature - 32) * (5/9)\r\n",
    "    # Konverterer feet til meter\r\n",
    "    if unitAltitude == \"F\":\r\n",
    "        altitude /= 3.2808\r\n",
    "\r\n",
    "    # Sjekker temperaturen\r\n",
    "    if temperature <= 0:\r\n",
    "        return \"solid\"\r\n",
    "    elif temperature >= 100 - (altitude / 300):\r\n",
    "        return \"gaseous\"\r\n",
    "    else:\r\n",
    "        return \"liquid\"\r\n",
    "\r\n",
    "print(stateOfWater(98, 600, unitDegree, unitAltitude))"
   ],
   "outputs": [
    {
     "output_type": "stream",
     "name": "stdout",
     "text": [
      "gaseous\n"
     ]
    }
   ],
   "metadata": {}
  },
  {
   "cell_type": "code",
   "execution_count": 102,
   "source": [
    "#\r\n",
    "#   Besvarelse P3.17\r\n",
    "#\r\n",
    "\r\n",
    "def checkString(string):\r\n",
    "    output = \"The string:\\n\"\r\n",
    "    \r\n",
    "    # Sjekker etter det oppgaven spør om.\r\n",
    "    if string.isalpha():\r\n",
    "        output += \"Contains only letters.\\n\"\r\n",
    "    if string.isupper():\r\n",
    "        output += \"Contains only uppercase letters.\\n\"\r\n",
    "    if string.islower():\r\n",
    "        output += \"Contains only lowercase letters.\\n\"\r\n",
    "    if string.isnumeric():\r\n",
    "        output += \"Contains only digits.\\n\"\r\n",
    "    if string.isalnum():\r\n",
    "        output += \"Contains only letters and digits.\\n\"\r\n",
    "    if string.istitle():\r\n",
    "        output += \"Starts with an uppercase letter.\\n\"\r\n",
    "    if string.endswith(\".\"):\r\n",
    "        output += \"Ends with a period.\\n\"\r\n",
    "\r\n",
    "    # Sjekker om start stringen fortsatt har samme lengde.\r\n",
    "    if len(output) == 12:\r\n",
    "        return \"The string doens't satisfy and of the conditions.\\n\"\r\n",
    "\r\n",
    "    return output\r\n",
    "    \r\n",
    "\r\n",
    "print(checkString(\"only letters\"))\r\n",
    "print(checkString(\"ONLY UPPERCASE\"))\r\n",
    "print(checkString(\"only lowercase\"))\r\n",
    "print(checkString(\"111\"))\r\n",
    "print(checkString(\"letters and d1g1ts\"))\r\n",
    "print(checkString(\"Title\"))\r\n",
    "print(checkString(\"Ends with a period.\"))\r\n",
    "print(checkString(\"dOesn'T SatisFy aNy coNDiTion\"))"
   ],
   "outputs": [
    {
     "output_type": "stream",
     "name": "stdout",
     "text": [
      "The string:\n",
      "Contains only lowercase letters.\n",
      "\n",
      "The string:\n",
      "Contains only uppercase letters.\n",
      "\n",
      "The string:\n",
      "Contains only lowercase letters.\n",
      "\n",
      "The string:\n",
      "Contains only digits.\n",
      "Contains only letters and digits.\n",
      "\n",
      "The string:\n",
      "Contains only lowercase letters.\n",
      "\n",
      "The string:\n",
      "Contains only letters.\n",
      "Contains only letters and digits.\n",
      "Starts with an uppercase letter.\n",
      "\n",
      "The string:\n",
      "Ends with a period.\n",
      "\n",
      "The string doens't satisfy and of the conditions.\n",
      "\n"
     ]
    }
   ],
   "metadata": {}
  },
  {
   "cell_type": "code",
   "execution_count": 8,
   "source": [
    "#\r\n",
    "#   Besvarelse P3.18\r\n",
    "#\r\n",
    "\r\n",
    "# Kjører tre ganger for å få sjekket alle outcomes\r\n",
    "for _ in range(3):\r\n",
    "    # Får inputs fra brukeren\r\n",
    "    time1 = input(\"Enter the first point in time in hh:mm (military) format: \")\r\n",
    "    time2 = input(\"Enter the second point in time in hh:mm (military) format: \")\r\n",
    "\r\n",
    "    # Gjør om til timer og minutt\r\n",
    "    hours1, minutes1 = time1.split(\":\")\r\n",
    "    hours1 = int(hours1)\r\n",
    "    hours2, minutes2 = time2.split(\":\")\r\n",
    "    hours2 = int(hours2)\r\n",
    "\r\n",
    "    # Lager det som skal printes\r\n",
    "    hour1First = f\"{hours1}:{minutes1}\\n{hours2}:{minutes2}\"\r\n",
    "    hour2First = f\"{hours2}:{minutes2}\\n{hours1}:{minutes1}\"\r\n",
    "    hoursAlike = f\"{hours1}:{minutes1} is the same as {hours2}:{minutes2}\"\r\n",
    "\r\n",
    "    # Skrver psuedo koden i python\r\n",
    "    if hours1 < hours2:\r\n",
    "        print(hour1First)\r\n",
    "    elif hours1 == hours2:\r\n",
    "        if int(minutes1) < int(minutes2):\r\n",
    "            print(hour2First)\r\n",
    "        elif minutes1 == minutes2:\r\n",
    "            print(hoursAlike)\r\n",
    "        else:\r\n",
    "            print(hour2First)\r\n",
    "    else:\r\n",
    "        print(hour2First)\r\n"
   ],
   "outputs": [
    {
     "output_type": "stream",
     "name": "stdout",
     "text": [
      "8:00\n",
      "12:34\n",
      "12:15\n",
      "21:00\n",
      "13:00 is the same as 13:00\n"
     ]
    }
   ],
   "metadata": {}
  },
  {
   "cell_type": "code",
   "execution_count": 48,
   "source": [
    "#\r\n",
    "#   Besvarelse P3.19\r\n",
    "#\r\n",
    "\r\n",
    "import re\r\n",
    "\r\n",
    "# Sier hvilke bokstaver som skal aksepteres\r\n",
    "pattern = re.compile(\"[A-Z]\")\r\n",
    "\r\n",
    "# Kjører to ganger for å få begge outputs\r\n",
    "for _ in range(2):\r\n",
    "    # Gjør inputen uppercase så jeg ikke trenger like mange checks i if statement\r\n",
    "    character = input(\"Enter a character from A-Z: \").upper()\r\n",
    "\r\n",
    "    # Sjekker om den har ulovlige bokstaver eller er lengre enn 1 bokstav\r\n",
    "    if not pattern.fullmatch(character) or len(character) > 1:\r\n",
    "        raise Exception(\"Invalid Input!\")\r\n",
    "\r\n",
    "    # Sjekker om det er en vokal eller konsonant\r\n",
    "    if character == \"A\" or character == \"E\" or character == \"I\" or character == \"O\" or character == \"U\":\r\n",
    "        print(f\"{character}: Vowel\")\r\n",
    "    else:\r\n",
    "        print(f\"{character}: Consonant\")"
   ],
   "outputs": [
    {
     "output_type": "stream",
     "name": "stdout",
     "text": [
      "A: Vowel\n",
      "B: Consonant\n"
     ]
    }
   ],
   "metadata": {}
  },
  {
   "cell_type": "code",
   "execution_count": 46,
   "source": [
    "#\r\n",
    "#   Besvarelse P3.21\r\n",
    "#\r\n",
    "\r\n",
    "# Funkjson for å dele opp tallet\r\n",
    "def split(string):\r\n",
    "    return [character for character in string]\r\n",
    "\r\n",
    "def checkDecimalPlaces(num1, num2):\r\n",
    "    # Får de to første desimal plassene\r\n",
    "    num1 = split(str(round(num1, 2)))[2:4]\r\n",
    "    num2 = split(str(round(num2, 2)))[2:4]\r\n",
    "\r\n",
    "    # Sjekker om det er to desimal plasser, hvis ikke legger jeg til en\r\n",
    "    if len(num1) == 1:\r\n",
    "        num1.append(0)\r\n",
    "    if len(num2) == 1:\r\n",
    "        num2.append(0)\r\n",
    "\r\n",
    "    # Sjekker om de to første desimaltallene er like i begge tallene\r\n",
    "    if int(num1[0]) == int(num1[1]) and int(num2[0]) == int(num2[1]):\r\n",
    "        return \"They are the same up to two decimal places.\"\r\n",
    "    else:\r\n",
    "        return \"They are different.\"\r\n",
    "\r\n",
    "# Kjører to ganger for å få begge outputs\r\n",
    "for _ in range(2):\r\n",
    "    num1 = float(input(\"Enter a floating-point number: \"))\r\n",
    "    num2 = float(input(\"Enter a floating-point number: \"))\r\n",
    "\r\n",
    "    print(checkDecimalPlaces(num1, num2))"
   ],
   "outputs": [
    {
     "output_type": "stream",
     "name": "stdout",
     "text": [
      "They are the same up to two decimal places.\n",
      "They are different.\n"
     ]
    }
   ],
   "metadata": {}
  },
  {
   "cell_type": "code",
   "execution_count": 67,
   "source": [
    "#\r\n",
    "#   Besvarelse P3.48\r\n",
    "#\r\n",
    "\r\n",
    "def temperatureInCircuit(V_m):\r\n",
    "    if V_m < 12 or V_m > 18:\r\n",
    "        raise Exception(\"Invalid Input!\\nV_m should be between 12 and 18.\")\r\n",
    "\r\n",
    "    R_s, k, V_s, R_0 = 75, 0.5, 20, 100\r\n",
    "\r\n",
    "    return (R_s/k) * (V_m/(V_s-V_m)) - (R_0/k)\r\n",
    "\r\n",
    "print(temperatureInCircuit(12))\r\n",
    "\r\n",
    "# Denne skal gi en error \r\n",
    "print(temperatureInCircuit(11))"
   ],
   "outputs": [
    {
     "output_type": "stream",
     "name": "stdout",
     "text": [
      "25.0\n"
     ]
    },
    {
     "output_type": "error",
     "ename": "Exception",
     "evalue": "Invalid Input!\nV_m should be between 12 and 18.",
     "traceback": [
      "\u001b[1;31m---------------------------------------------------------------------------\u001b[0m",
      "\u001b[1;31mException\u001b[0m                                 Traceback (most recent call last)",
      "\u001b[1;32m~\\AppData\\Local\\Temp/ipykernel_3808/1321081001.py\u001b[0m in \u001b[0;36m<module>\u001b[1;34m\u001b[0m\n\u001b[0;32m     13\u001b[0m \u001b[0mprint\u001b[0m\u001b[1;33m(\u001b[0m\u001b[0mtemperatureInCircuit\u001b[0m\u001b[1;33m(\u001b[0m\u001b[1;36m12\u001b[0m\u001b[1;33m)\u001b[0m\u001b[1;33m)\u001b[0m\u001b[1;33m\u001b[0m\u001b[1;33m\u001b[0m\u001b[0m\n\u001b[0;32m     14\u001b[0m \u001b[1;33m\u001b[0m\u001b[0m\n\u001b[1;32m---> 15\u001b[1;33m \u001b[0mprint\u001b[0m\u001b[1;33m(\u001b[0m\u001b[0mtemperatureInCircuit\u001b[0m\u001b[1;33m(\u001b[0m\u001b[1;36m11\u001b[0m\u001b[1;33m)\u001b[0m\u001b[1;33m)\u001b[0m\u001b[1;33m\u001b[0m\u001b[1;33m\u001b[0m\u001b[0m\n\u001b[0m",
      "\u001b[1;32m~\\AppData\\Local\\Temp/ipykernel_3808/1321081001.py\u001b[0m in \u001b[0;36mtemperatureInCircuit\u001b[1;34m(V_m)\u001b[0m\n\u001b[0;32m      5\u001b[0m \u001b[1;32mdef\u001b[0m \u001b[0mtemperatureInCircuit\u001b[0m\u001b[1;33m(\u001b[0m\u001b[0mV_m\u001b[0m\u001b[1;33m)\u001b[0m\u001b[1;33m:\u001b[0m\u001b[1;33m\u001b[0m\u001b[1;33m\u001b[0m\u001b[0m\n\u001b[0;32m      6\u001b[0m     \u001b[1;32mif\u001b[0m \u001b[0mV_m\u001b[0m \u001b[1;33m<\u001b[0m \u001b[1;36m12\u001b[0m \u001b[1;32mor\u001b[0m \u001b[0mV_m\u001b[0m \u001b[1;33m>\u001b[0m \u001b[1;36m18\u001b[0m\u001b[1;33m:\u001b[0m\u001b[1;33m\u001b[0m\u001b[1;33m\u001b[0m\u001b[0m\n\u001b[1;32m----> 7\u001b[1;33m         \u001b[1;32mraise\u001b[0m \u001b[0mException\u001b[0m\u001b[1;33m(\u001b[0m\u001b[1;34m\"Invalid Input!\\nV_m should be between 12 and 18.\"\u001b[0m\u001b[1;33m)\u001b[0m\u001b[1;33m\u001b[0m\u001b[1;33m\u001b[0m\u001b[0m\n\u001b[0m\u001b[0;32m      8\u001b[0m \u001b[1;33m\u001b[0m\u001b[0m\n\u001b[0;32m      9\u001b[0m     \u001b[0mR_s\u001b[0m\u001b[1;33m,\u001b[0m \u001b[0mk\u001b[0m\u001b[1;33m,\u001b[0m \u001b[0mV_s\u001b[0m\u001b[1;33m,\u001b[0m \u001b[0mR_0\u001b[0m \u001b[1;33m=\u001b[0m \u001b[1;36m75\u001b[0m\u001b[1;33m,\u001b[0m \u001b[1;36m0.5\u001b[0m\u001b[1;33m,\u001b[0m \u001b[1;36m20\u001b[0m\u001b[1;33m,\u001b[0m \u001b[1;36m100\u001b[0m\u001b[1;33m\u001b[0m\u001b[1;33m\u001b[0m\u001b[0m\n",
      "\u001b[1;31mException\u001b[0m: Invalid Input!\nV_m should be between 12 and 18."
     ]
    }
   ],
   "metadata": {}
  },
  {
   "cell_type": "code",
   "execution_count": 66,
   "source": [
    "#\r\n",
    "#   Besvarelse P3.49\r\n",
    "#\r\n",
    "\r\n",
    "import math\r\n",
    "\r\n",
    "def soundTheAlarm(T):\r\n",
    "    # Anviser veriablene\r\n",
    "    R_0, T_0, beta, T = 33192, 40 + 273, 3310, (T - 32) * (5/9) + 273\r\n",
    "    R_2 = R_3 = R_4 = 156300\r\n",
    "\r\n",
    "    # Regner ut R\r\n",
    "    R = R_0 * (math.e ** (beta * ((1 / T) - (1 / T_0))))\r\n",
    "\r\n",
    "    # Regner ut hver side av likningen\r\n",
    "    leftSide = R_2/(R + R_2)\r\n",
    "    rightSide = R_4/(R_3 + R_4)\r\n",
    "\r\n",
    "    # Sjekker om alarmen skal ringe\r\n",
    "    if leftSide < rightSide:\r\n",
    "        return \"The alarm will sound.\"\r\n",
    "    else:\r\n",
    "        return \"The alarm won't sound.\"\r\n",
    "\r\n",
    "# Printer ut resultatet\r\n",
    "print(soundTheAlarm(0))\r\n",
    "print(soundTheAlarm(32))"
   ],
   "outputs": [
    {
     "output_type": "stream",
     "name": "stdout",
     "text": [
      "The alarm will sound.\n",
      "The alarm won't sound.\n"
     ]
    }
   ],
   "metadata": {}
  }
 ],
 "metadata": {
  "kernelspec": {
   "name": "python3",
   "display_name": "Python 3.9.6 64-bit"
  },
  "language_info": {
   "codemirror_mode": {
    "name": "ipython",
    "version": 3
   },
   "file_extension": ".py",
   "mimetype": "text/x-python",
   "name": "python",
   "nbconvert_exporter": "python",
   "pygments_lexer": "ipython3",
   "version": "3.9.6"
  },
  "interpreter": {
   "hash": "63fd5069d213b44bf678585dea6b12cceca9941eaf7f819626cde1f2670de90d"
  }
 },
 "nbformat": 4,
 "nbformat_minor": 4
}