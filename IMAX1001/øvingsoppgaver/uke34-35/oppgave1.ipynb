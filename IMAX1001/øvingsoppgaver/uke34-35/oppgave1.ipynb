{
    "cells": [
        {
            "cell_type": "markdown",
            "source": [
                "Oppgave 1"
            ],
            "metadata": {}
        },
        {
            "cell_type": "code",
            "execution_count": 48,
            "source": [
                "import numpy as np"
            ],
            "outputs": [],
            "metadata": {}
        },
        {
            "cell_type": "markdown",
            "source": [
                "a)"
            ],
            "metadata": {}
        },
        {
            "cell_type": "code",
            "execution_count": 49,
            "source": [
                "# Gauss kalkulator\r\n",
                "# Definerer funksjonene for de 3 elementære radoperasjonene.\r\n",
                "# Du må selv velge hvilke operasjoner som skal brukes\r\n",
                "\r\n",
                "def adder_rad(A,k,i,j):\r\n",
                "    \"Adderer k ganger rad j til rad i.\"\r\n",
                "    n = A.shape[0]      # n=antall rader i A\r\n",
                "    E = np.eye(n)       # Lager en (n x n)-identitetsmatrise\r\n",
                "    if i == j:\r\n",
                "        E[i,i] = k + 1  \r\n",
                "    else:\r\n",
                "        E[i,j] = k\r\n",
                "    return E @ A\r\n",
                "\r\n",
                "def skaler_rad(A,k,i):\r\n",
                "    \"Ganger rad i med k.\"\r\n",
                "    n = A.shape[0]\r\n",
                "    E = np.eye(n)\r\n",
                "    E[i,i] = k\r\n",
                "    return E @ A\r\n",
                "\r\n",
                "def bytt_rad(A,i,j):\r\n",
                "    \"Bytter om radene i og j.\"\r\n",
                "    n = A.shape[0]\r\n",
                "    E = np.eye(n)\r\n",
                "    E[i,i] = 0\r\n",
                "    E[j,j] = 0\r\n",
                "    E[i,j] = 1\r\n",
                "    E[j,i] = 1\r\n",
                "    return E @ A"
            ],
            "outputs": [],
            "metadata": {}
        },
        {
            "cell_type": "markdown",
            "source": [
                "b)"
            ],
            "metadata": {}
        },
        {
            "cell_type": "code",
            "execution_count": 50,
            "source": [
                "A = np.array([\r\n",
                "    [1, 1, 1, 1, 1],\r\n",
                "    [0, 0, -1, 0 , 4],\r\n",
                "    [2, 2, 3, 5, 5],\r\n",
                "    [0, 3, -6, 1, 7],\r\n",
                "    [0, 1, 2, 0, -1]\r\n",
                "])\r\n",
                "\r\n",
                "b = np.array([[1], [2], [-1], [3], [1]])\r\n",
                "\r\n",
                "print(f'A =\\n{A}\\n')\r\n",
                "print(f'B =\\n{b}\\n')"
            ],
            "outputs": [
                {
                    "output_type": "stream",
                    "name": "stdout",
                    "text": [
                        "A = \n",
                        "[[ 1  1  1  1  1]\n",
                        " [ 0  0 -1  0  4]\n",
                        " [ 2  2  3  5  5]\n",
                        " [ 0  3 -6  1  7]\n",
                        " [ 0  1  2  0 -1]]\n",
                        "\n",
                        "B = \n",
                        "[[ 1]\n",
                        " [ 2]\n",
                        " [-1]\n",
                        " [ 3]\n",
                        " [ 1]]\n",
                        "\n"
                    ]
                }
            ],
            "metadata": {}
        },
        {
            "cell_type": "markdown",
            "source": [
                "c)"
            ],
            "metadata": {}
        },
        {
            "cell_type": "code",
            "execution_count": 55,
            "source": [
                "A[1, 2], A[2, 4], A[3, 1] = 0, 4, -3\r\n",
                "\r\n",
                "print(f'A =\\n{A}')"
            ],
            "outputs": [
                {
                    "output_type": "stream",
                    "name": "stdout",
                    "text": [
                        "A =\n",
                        "[[ 1  1  1  1  1]\n",
                        " [ 0  0  0  0  4]\n",
                        " [ 2  2  3  5  4]\n",
                        " [ 0 -3 -6  1  7]\n",
                        " [ 0  1  2  0 -1]]\n"
                    ]
                }
            ],
            "metadata": {}
        },
        {
            "cell_type": "markdown",
            "source": [
                "d)"
            ],
            "metadata": {}
        },
        {
            "cell_type": "code",
            "execution_count": 52,
            "source": [
                "M = np.column_stack((A, b))\r\n",
                "print(f'M =\\n{M}')"
            ],
            "outputs": [
                {
                    "output_type": "stream",
                    "name": "stdout",
                    "text": [
                        "M =\n",
                        "[[ 1  1  1  1  1  1]\n",
                        " [ 0  0  0  0  4  2]\n",
                        " [ 2  2  3  5  4 -1]\n",
                        " [ 0 -3 -6  1  7  3]\n",
                        " [ 0  1  2  0 -1  1]]\n"
                    ]
                }
            ],
            "metadata": {}
        },
        {
            "cell_type": "markdown",
            "source": [
                "e)"
            ],
            "metadata": {}
        },
        {
            "cell_type": "code",
            "execution_count": 54,
            "source": [
                "M1 = adder_rad(M, -2, 2, 0)\r\n",
                "M2 = bytt_rad(M1, 1, 4)\r\n",
                "M3 = adder_rad(M2, 3, 3, 1)\r\n",
                "M4 = skaler_rad(M3, 1/4, 4)\r\n",
                "print(M4)"
            ],
            "outputs": [
                {
                    "output_type": "stream",
                    "name": "stdout",
                    "text": [
                        "[[ 1.   1.   1.   1.   1.   1. ]\n",
                        " [ 0.   1.   2.   0.  -1.   1. ]\n",
                        " [ 0.   0.   1.   3.   2.  -3. ]\n",
                        " [ 0.   0.   0.   1.   4.   6. ]\n",
                        " [ 0.   0.   0.   0.   1.   0.5]]\n"
                    ]
                }
            ],
            "metadata": {}
        },
        {
            "cell_type": "markdown",
            "source": [
                "f)"
            ],
            "metadata": {}
        },
        {
            "cell_type": "code",
            "execution_count": 58,
            "source": [
                "x5, x4, x3, x2, x1 = M4[4, 5], M4[3, 5] - 4*x5, M4[2, 5] - 3*x4 - 2*x5, M4[1, 5] - 2*x3 + x5, M4[0, 5] - x2 - x3 - x4 -x5\r\n",
                "print(f\"x1: {x1}\\nx2: {x2}\\nx3: {x3}\\nx4: {x4}\\nx5: {x5}\")"
            ],
            "outputs": [
                {
                    "output_type": "stream",
                    "name": "stdout",
                    "text": [
                        "x1: -21.0\n",
                        "x2: 33.5\n",
                        "x3: -16.0\n",
                        "x4: 4.0\n",
                        "x5: 0.5\n"
                    ]
                }
            ],
            "metadata": {}
        },
        {
            "cell_type": "markdown",
            "source": [
                "g)"
            ],
            "metadata": {}
        },
        {
            "cell_type": "code",
            "execution_count": 46,
            "source": [
                "ans = np.linalg.solve(A, b)\r\n",
                "check = np.allclose(np.dot(A, ans), b)\r\n",
                "\r\n",
                "print(f\"The answer is:\\nx1: {ans[0]}\\nx2: {ans[1]}\\nx3: {ans[2]}\\nx4: {ans[3]}\\nx5: {ans[4]}\\n\\nAnswer is correct: {check}\")"
            ],
            "outputs": [
                {
                    "output_type": "stream",
                    "name": "stdout",
                    "text": [
                        "The answer is:\n",
                        "x1: [-21.]\n",
                        "x2: [33.5]\n",
                        "x3: [-16.]\n",
                        "x4: [4.]\n",
                        "x5: [0.5]\n",
                        "\n",
                        "Answer is correct: True\n"
                    ]
                }
            ],
            "metadata": {}
        }
    ],
    "metadata": {
        "orig_nbformat": 4,
        "language_info": {
            "name": "python",
            "version": "3.9.6",
            "mimetype": "text/x-python",
            "codemirror_mode": {
                "name": "ipython",
                "version": 3
            },
            "pygments_lexer": "ipython3",
            "nbconvert_exporter": "python",
            "file_extension": ".py"
        },
        "kernelspec": {
            "name": "python3",
            "display_name": "Python 3.9.6 64-bit"
        },
        "interpreter": {
            "hash": "63fd5069d213b44bf678585dea6b12cceca9941eaf7f819626cde1f2670de90d"
        }
    },
    "nbformat": 4,
    "nbformat_minor": 2
}