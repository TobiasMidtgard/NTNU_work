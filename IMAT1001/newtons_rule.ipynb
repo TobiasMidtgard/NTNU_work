{
 "cells": [
  {
   "cell_type": "code",
   "execution_count": 36,
   "source": [
    "import numpy as np\r\n",
    "from scipy.misc import derivative"
   ],
   "outputs": [],
   "metadata": {}
  },
  {
   "cell_type": "code",
   "execution_count": 37,
   "source": [
    "def f(x):\r\n",
    "    return np.exp(x) + x - 3"
   ],
   "outputs": [],
   "metadata": {}
  },
  {
   "cell_type": "code",
   "execution_count": 38,
   "source": [
    "def x_next(f, x_n):\r\n",
    "    slope = derivative(f, x_n, dx=0.2)\r\n",
    "    return x_n - f(x_n) / slope"
   ],
   "outputs": [],
   "metadata": {}
  },
  {
   "cell_type": "code",
   "execution_count": 39,
   "source": [
    "x_n = 1\r\n",
    "n = 1\r\n",
    "\r\n",
    "while round(x_n, 6) != round(x_next(f, x_n), 6):\r\n",
    "    print(\"x_{} = {:.6f}\".format(n, x_n))\r\n",
    "    x_n = x_next(f, x_n)\r\n",
    "    n += 1"
   ],
   "outputs": [
    {
     "output_type": "stream",
     "name": "stdout",
     "text": [
      "x_1 = 1.000000\n",
      "x_2 = 0.807763\n",
      "x_3 = 0.792217\n",
      "x_4 = 0.792061\n"
     ]
    }
   ],
   "metadata": {}
  }
 ],
 "metadata": {
  "orig_nbformat": 4,
  "language_info": {
   "name": "python",
   "version": "3.9.6",
   "mimetype": "text/x-python",
   "codemirror_mode": {
    "name": "ipython",
    "version": 3
   },
   "pygments_lexer": "ipython3",
   "nbconvert_exporter": "python",
   "file_extension": ".py"
  },
  "kernelspec": {
   "name": "python3",
   "display_name": "Python 3.9.6 64-bit"
  },
  "interpreter": {
   "hash": "63fd5069d213b44bf678585dea6b12cceca9941eaf7f819626cde1f2670de90d"
  }
 },
 "nbformat": 4,
 "nbformat_minor": 2
}