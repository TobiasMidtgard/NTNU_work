{
 "cells": [
  {
   "cell_type": "code",
   "execution_count": 1,
   "source": [
    "import numpy as np"
   ],
   "outputs": [],
   "metadata": {}
  },
  {
   "cell_type": "code",
   "execution_count": 2,
   "source": [
    "A = np.zeros((5,5))\r\n",
    "for i in range(5):\r\n",
    "    for j in range(5):\r\n",
    "        A[i, j] = (i + 1) ** (4 - j)\r\n",
    "detA = np.linalg.det(A)\r\n",
    "B = A.copy()\r\n",
    "print(B)"
   ],
   "outputs": [
    {
     "output_type": "stream",
     "name": "stdout",
     "text": [
      "[[  1.   1.   1.   1.   1.]\n",
      " [ 16.   8.   4.   2.   1.]\n",
      " [ 81.  27.   9.   3.   1.]\n",
      " [256.  64.  16.   4.   1.]\n",
      " [625. 125.  25.   5.   1.]]\n"
     ]
    }
   ],
   "metadata": {}
  },
  {
   "cell_type": "code",
   "execution_count": 3,
   "source": [
    "b = np.array([0, 0, 0, 1, 1])\r\n",
    "\r\n",
    "for index, number in enumerate(b):\r\n",
    "    B[index, 2] = number\r\n",
    "\r\n",
    "detA_3 = np.linalg.det(B)\r\n",
    "x_3 = detA_3 / detA"
   ],
   "outputs": [],
   "metadata": {}
  },
  {
   "cell_type": "code",
   "execution_count": 4,
   "source": [
    "print(detA_3)\r\n",
    "print(x_3)"
   ],
   "outputs": [
    {
     "output_type": "stream",
     "name": "stdout",
     "text": [
      "-1548.0000000000018\n",
      "-5.375000000000072\n"
     ]
    }
   ],
   "metadata": {}
  }
 ],
 "metadata": {
  "orig_nbformat": 4,
  "language_info": {
   "name": "python",
   "version": "3.9.6",
   "mimetype": "text/x-python",
   "codemirror_mode": {
    "name": "ipython",
    "version": 3
   },
   "pygments_lexer": "ipython3",
   "nbconvert_exporter": "python",
   "file_extension": ".py"
  },
  "kernelspec": {
   "name": "python3",
   "display_name": "Python 3.9.6 64-bit"
  },
  "interpreter": {
   "hash": "63fd5069d213b44bf678585dea6b12cceca9941eaf7f819626cde1f2670de90d"
  }
 },
 "nbformat": 4,
 "nbformat_minor": 2
}